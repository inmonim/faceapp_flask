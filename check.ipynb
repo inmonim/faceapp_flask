{
 "cells": [
  {
   "cell_type": "code",
   "execution_count": 2,
   "metadata": {},
   "outputs": [],
   "source": [
    "import shutil\n",
    "import os"
   ]
  },
  {
   "cell_type": "code",
   "execution_count": 25,
   "metadata": {},
   "outputs": [
    {
     "name": "stdout",
     "output_type": "stream",
     "text": [
      "\n",
      "static/images/ 폴더 안에 이미지만 있는 이름:\n",
      "   1번째:   default.webp\n",
      "\n",
      "\n",
      "name.txt 파일에만 있는 이름:\n"
     ]
    }
   ],
   "source": [
    "f = open('name.txt', 'r', encoding='utf-8')\n",
    "name = f.readline()\n",
    "name = name.replace('\\'', '')\n",
    "name = name.replace(' ', '')\n",
    "class_names = name.split(',')\n",
    "\n",
    "path = \"./static/images/\"\n",
    "file_list = os.listdir(path)\n",
    "\n",
    "\n",
    "print('\\n'+'static/images/ 폴더 안에 이미지만 있는 이름:')\n",
    "for i, j in enumerate(file_list):\n",
    "    if j[:-4] not in class_names:\n",
    "        print('  ',str(i+1)+'번째:  ',j)\n",
    "\n",
    "print('\\n\\n'+'name.txt 파일에만 있는 이름:')\n",
    "for i, j in enumerate(class_names):\n",
    "    if (j+'.jpg') not in file_list:\n",
    "        print('  ',str(i+1)+'번째:  ',j)"
   ]
  },
  {
   "cell_type": "code",
   "execution_count": null,
   "metadata": {},
   "outputs": [],
   "source": []
  }
 ],
 "metadata": {
  "interpreter": {
   "hash": "a077222d77dfe082b8f1dd562ad70e458ac2ab76993a0b248ab0476e32e9e8dd"
  },
  "kernelspec": {
   "display_name": "Python 3.9.7 ('base')",
   "language": "python",
   "name": "python3"
  },
  "language_info": {
   "codemirror_mode": {
    "name": "ipython",
    "version": 3
   },
   "file_extension": ".py",
   "mimetype": "text/x-python",
   "name": "python",
   "nbconvert_exporter": "python",
   "pygments_lexer": "ipython3",
   "version": "3.9.7"
  },
  "orig_nbformat": 4
 },
 "nbformat": 4,
 "nbformat_minor": 2
}
